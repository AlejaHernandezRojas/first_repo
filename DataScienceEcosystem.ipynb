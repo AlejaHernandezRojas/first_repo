{
 "cells": [
  {
   "cell_type": "markdown",
   "id": "31d9b689-e0da-4793-8376-8dd6a41c9a61",
   "metadata": {},
   "source": [
    "# Data Science Tools and Ecosystem"
   ]
  },
  {
   "cell_type": "markdown",
   "id": "7f699a58-96a7-414e-a59d-7df53bfe59f7",
   "metadata": {},
   "source": [
    "In this notebook, Data Science Tools and Ecosystem are summarized."
   ]
  },
  {
   "cell_type": "markdown",
   "id": "37f936b9-ccac-4c5c-bcca-71b4a3ef4a84",
   "metadata": {},
   "source": [
    "**Objectives:**\n",
    "- List popular languages for Data Science\n",
    "- List commonly libraries for Data Science\n",
    "- List Data Science development tools\n",
    "- Evaluate arithmetic expressions in Python"
   ]
  },
  {
   "cell_type": "markdown",
   "id": "0c1abeee-d665-43b4-8a69-a9f9599ce975",
   "metadata": {},
   "source": [
    "Some of the popular languages that Data Scientists use are:\n",
    "1. Python\n",
    "2. R\n",
    "3. SQL\n",
    "4. Java"
   ]
  },
  {
   "cell_type": "markdown",
   "id": "ec333020-0d06-4f0f-9529-0be391d62447",
   "metadata": {},
   "source": [
    "Some of the commonly used libraries used by Data Scientists include:\n",
    "1. Pandas\n",
    "2. Numpy\n",
    "3. Plotly\n",
    "4. Dplyr"
   ]
  },
  {
   "cell_type": "markdown",
   "id": "f6ee5671-80f6-433c-a29a-54bc1b3f8298",
   "metadata": {},
   "source": [
    "Data Science Tools\n",
    "-------------------\n",
    "R Studio\n",
    "JupyterLab\n",
    "Google Colaboratory\n",
    "Visual Studio"
   ]
  },
  {
   "cell_type": "markdown",
   "id": "a4fabca3-3b5e-4052-a15b-5691d9ffac26",
   "metadata": {},
   "source": [
    "### Below are a few examples of evaluating arithmetic expressions in Python"
   ]
  },
  {
   "cell_type": "code",
   "execution_count": 1,
   "id": "48d7e496-0ee6-489c-855c-1dfa5159cd47",
   "metadata": {},
   "outputs": [
    {
     "data": {
      "text/plain": [
       "17"
      ]
     },
     "execution_count": 1,
     "metadata": {},
     "output_type": "execute_result"
    }
   ],
   "source": [
    "# This a simple arithmetic expression to mutiply then add integers\n",
    "(3*4)+5"
   ]
  },
  {
   "cell_type": "code",
   "execution_count": 2,
   "id": "1ae48d67-be4f-457e-9f1d-a55357ccee67",
   "metadata": {},
   "outputs": [
    {
     "data": {
      "text/plain": [
       "3.3333333333333335"
      ]
     },
     "execution_count": 2,
     "metadata": {},
     "output_type": "execute_result"
    }
   ],
   "source": [
    "# This will convert 200 minutes to hours by diving by 60\n",
    "def min_to_hour(min):\n",
    "    hours = min/60\n",
    "    return hours\n",
    "\n",
    "min_to_hour(200)"
   ]
  },
  {
   "cell_type": "markdown",
   "id": "7a9231ce-c37f-4686-83d0-9a59447e58f9",
   "metadata": {},
   "source": [
    "## Author\n",
    "Maria Hernandez"
   ]
  }
 ],
 "metadata": {
  "kernelspec": {
   "display_name": "Python 3 (ipykernel)",
   "language": "python",
   "name": "python3"
  },
  "language_info": {
   "codemirror_mode": {
    "name": "ipython",
    "version": 3
   },
   "file_extension": ".py",
   "mimetype": "text/x-python",
   "name": "python",
   "nbconvert_exporter": "python",
   "pygments_lexer": "ipython3",
   "version": "3.12.3"
  }
 },
 "nbformat": 4,
 "nbformat_minor": 5
}
